{
 "cells": [
  {
   "cell_type": "markdown",
   "metadata": {},
   "source": [
    "# Terraform Playbook\n",
    "\n",
    "The purpose of this notebook is to use terraform related to the contents found within this directory. It assumes the installation of terraform, clients, profiles, and other related items are already available."
   ]
  },
  {
   "cell_type": "code",
   "execution_count": 1,
   "metadata": {},
   "outputs": [],
   "source": [
    "import webbrowser\n",
    "\n",
    "import pandas as pd\n",
    "from IPython.core.display import HTML\n",
    "from IPython.display import Image\n",
    "from sklearn import datasets"
   ]
  },
  {
   "cell_type": "code",
   "execution_count": 2,
   "metadata": {},
   "outputs": [],
   "source": [
    "# load iris dataset from sklearn\n",
    "iris = datasets.load_iris()\n",
    "\n",
    "# export iris dataset to parquet via pandas\n",
    "pd.DataFrame(iris.data, columns=iris.feature_names).to_parquet(\"iris.parquet\")"
   ]
  },
  {
   "cell_type": "code",
   "execution_count": 3,
   "metadata": {},
   "outputs": [
    {
     "name": "stdout",
     "output_type": "stream",
     "text": [
      "\n",
      "\u001b[0m\u001b[1mInitializing the backend...\u001b[0m\n",
      "\n",
      "\u001b[0m\u001b[1mInitializing provider plugins...\u001b[0m\n",
      "- Using previously-installed hashicorp/aws v3.25.0\n",
      "\n",
      "The following providers do not have any version constraints in configuration,\n",
      "so the latest version was installed.\n",
      "\n",
      "To prevent automatic upgrades to new major versions that may contain breaking\n",
      "changes, we recommend adding version constraints in a required_providers block\n",
      "in your configuration, with the constraint strings suggested below.\n",
      "\n",
      "* hashicorp/aws: version = \"~> 3.25.0\"\n",
      "\n",
      "\u001b[0m\u001b[1m\u001b[32mTerraform has been successfully initialized!\u001b[0m\u001b[32m\u001b[0m\n",
      "\u001b[0m\u001b[32m\n",
      "You may now begin working with Terraform. Try running \"terraform plan\" to see\n",
      "any changes that are required for your infrastructure. All Terraform commands\n",
      "should now work.\n",
      "\n",
      "If you ever set or change modules or backend configuration for Terraform,\n",
      "rerun this command to reinitialize your working directory. If you forget, other\n",
      "commands will detect it and remind you to do so if necessary.\u001b[0m\n"
     ]
    }
   ],
   "source": [
    "!terraform init"
   ]
  },
  {
   "cell_type": "code",
   "execution_count": 4,
   "metadata": {},
   "outputs": [
    {
     "name": "stdout",
     "output_type": "stream",
     "text": [
      "\u001b[32m\u001b[1mSuccess!\u001b[0m The configuration is valid.\n",
      "\u001b[0m\n"
     ]
    }
   ],
   "source": [
    "!terraform validate"
   ]
  },
  {
   "cell_type": "code",
   "execution_count": 5,
   "metadata": {},
   "outputs": [
    {
     "name": "stdout",
     "output_type": "stream",
     "text": [
      "\u001b[0m\u001b[1mRefreshing Terraform state in-memory prior to plan...\u001b[0m\n",
      "The refreshed state will be used to calculate this plan, but will not be\n",
      "persisted to local or remote state storage.\n",
      "\u001b[0m\n",
      "\n",
      "------------------------------------------------------------------------\n",
      "\n",
      "An execution plan has been generated and is shown below.\n",
      "Resource actions are indicated with the following symbols:\n",
      "  \u001b[32m+\u001b[0m create\n",
      "\u001b[0m\n",
      "Terraform will perform the following actions:\n",
      "\n",
      "\u001b[1m  # aws_glue_catalog_database.glue_catalog_db\u001b[0m will be created\u001b[0m\u001b[0m\n",
      "\u001b[0m  \u001b[32m+\u001b[0m\u001b[0m resource \"aws_glue_catalog_database\" \"glue_catalog_db\" {\n",
      "      \u001b[32m+\u001b[0m \u001b[0m\u001b[1m\u001b[0marn\u001b[0m\u001b[0m        = (known after apply)\n",
      "      \u001b[32m+\u001b[0m \u001b[0m\u001b[1m\u001b[0mcatalog_id\u001b[0m\u001b[0m = (known after apply)\n",
      "      \u001b[32m+\u001b[0m \u001b[0m\u001b[1m\u001b[0mid\u001b[0m\u001b[0m         = (known after apply)\n",
      "      \u001b[32m+\u001b[0m \u001b[0m\u001b[1m\u001b[0mname\u001b[0m\u001b[0m       = \"glue-testing-yz9bw5a\"\n",
      "    }\n",
      "\n",
      "\u001b[1m  # aws_glue_crawler.glue_crawler\u001b[0m will be created\u001b[0m\u001b[0m\n",
      "\u001b[0m  \u001b[32m+\u001b[0m\u001b[0m resource \"aws_glue_crawler\" \"glue_crawler\" {\n",
      "      \u001b[32m+\u001b[0m \u001b[0m\u001b[1m\u001b[0marn\u001b[0m\u001b[0m           = (known after apply)\n",
      "      \u001b[32m+\u001b[0m \u001b[0m\u001b[1m\u001b[0mconfiguration\u001b[0m\u001b[0m = jsonencode(\n",
      "            {\n",
      "              \u001b[32m+\u001b[0m \u001b[0mCrawlerOutput = {\n",
      "                  \u001b[32m+\u001b[0m \u001b[0mPartitions = {\n",
      "                      \u001b[32m+\u001b[0m \u001b[0mAddOrUpdateBehavior = \"InheritFromTable\"\n",
      "                    }\n",
      "                  \u001b[32m+\u001b[0m \u001b[0mTables     = {\n",
      "                      \u001b[32m+\u001b[0m \u001b[0mAddOrUpdateBehavior = \"MergeNewColumns\"\n",
      "                    }\n",
      "                }\n",
      "              \u001b[32m+\u001b[0m \u001b[0mVersion       = 1\n",
      "            }\n",
      "        )\n",
      "      \u001b[32m+\u001b[0m \u001b[0m\u001b[1m\u001b[0mdatabase_name\u001b[0m\u001b[0m = \"glue-testing-yz9bw5a\"\n",
      "      \u001b[32m+\u001b[0m \u001b[0m\u001b[1m\u001b[0mid\u001b[0m\u001b[0m            = (known after apply)\n",
      "      \u001b[32m+\u001b[0m \u001b[0m\u001b[1m\u001b[0mname\u001b[0m\u001b[0m          = \"glue-testing-yz9bw5a\"\n",
      "      \u001b[32m+\u001b[0m \u001b[0m\u001b[1m\u001b[0mrole\u001b[0m\u001b[0m          = (known after apply)\n",
      "      \u001b[32m+\u001b[0m \u001b[0m\u001b[1m\u001b[0mschedule\u001b[0m\u001b[0m      = \"cron(0 0 * * ? *)\"\n",
      "\n",
      "      \u001b[32m+\u001b[0m \u001b[0ms3_target {\n",
      "          \u001b[32m+\u001b[0m \u001b[0m\u001b[1m\u001b[0mpath\u001b[0m\u001b[0m = \"s3://glue-testing-yz9bw5a-data/\"\n",
      "        }\n",
      "\n",
      "      \u001b[32m+\u001b[0m \u001b[0mschema_change_policy {\n",
      "          \u001b[32m+\u001b[0m \u001b[0m\u001b[1m\u001b[0mdelete_behavior\u001b[0m\u001b[0m = \"DELETE_FROM_DATABASE\"\n",
      "          \u001b[32m+\u001b[0m \u001b[0m\u001b[1m\u001b[0mupdate_behavior\u001b[0m\u001b[0m = \"UPDATE_IN_DATABASE\"\n",
      "        }\n",
      "    }\n",
      "\n",
      "\u001b[1m  # aws_iam_policy.glue_policy\u001b[0m will be created\u001b[0m\u001b[0m\n",
      "\u001b[0m  \u001b[32m+\u001b[0m\u001b[0m resource \"aws_iam_policy\" \"glue_policy\" {\n",
      "      \u001b[32m+\u001b[0m \u001b[0m\u001b[1m\u001b[0marn\u001b[0m\u001b[0m    = (known after apply)\n",
      "      \u001b[32m+\u001b[0m \u001b[0m\u001b[1m\u001b[0mid\u001b[0m\u001b[0m     = (known after apply)\n",
      "      \u001b[32m+\u001b[0m \u001b[0m\u001b[1m\u001b[0mname\u001b[0m\u001b[0m   = \"glue-testing-yz9bw5a\"\n",
      "      \u001b[32m+\u001b[0m \u001b[0m\u001b[1m\u001b[0mpath\u001b[0m\u001b[0m   = \"/\"\n",
      "      \u001b[32m+\u001b[0m \u001b[0m\u001b[1m\u001b[0mpolicy\u001b[0m\u001b[0m = jsonencode(\n",
      "            {\n",
      "              \u001b[32m+\u001b[0m \u001b[0mStatement = [\n",
      "                  \u001b[32m+\u001b[0m \u001b[0m{\n",
      "                      \u001b[32m+\u001b[0m \u001b[0mAction   = [\n",
      "                          \u001b[32m+\u001b[0m \u001b[0m\"s3:ListBucket\",\n",
      "                        ]\n",
      "                      \u001b[32m+\u001b[0m \u001b[0mEffect   = \"Allow\"\n",
      "                      \u001b[32m+\u001b[0m \u001b[0mResource = [\n",
      "                          \u001b[32m+\u001b[0m \u001b[0m\"arn:aws:s3:::glue-testing-dabu5788-data\",\n",
      "                          \u001b[32m+\u001b[0m \u001b[0m\"arn:aws:s3:::glue-testing-dabu5788-code\",\n",
      "                        ]\n",
      "                    },\n",
      "                  \u001b[32m+\u001b[0m \u001b[0m{\n",
      "                      \u001b[32m+\u001b[0m \u001b[0mAction   = [\n",
      "                          \u001b[32m+\u001b[0m \u001b[0m\"s3:GetBucketLocation\",\n",
      "                          \u001b[32m+\u001b[0m \u001b[0m\"s3:ListBucket\",\n",
      "                          \u001b[32m+\u001b[0m \u001b[0m\"s3:GetBucketAcl\",\n",
      "                          \u001b[32m+\u001b[0m \u001b[0m\"s3:GetObject\",\n",
      "                          \u001b[32m+\u001b[0m \u001b[0m\"s3:PutObject\",\n",
      "                          \u001b[32m+\u001b[0m \u001b[0m\"s3:DeleteObject\",\n",
      "                        ]\n",
      "                      \u001b[32m+\u001b[0m \u001b[0mEffect   = \"Allow\"\n",
      "                      \u001b[32m+\u001b[0m \u001b[0mResource = [\n",
      "                          \u001b[32m+\u001b[0m \u001b[0m\"arn:aws:s3:::glue-testing-dabu5788-data\",\n",
      "                          \u001b[32m+\u001b[0m \u001b[0m\"arn:aws:s3:::glue-testing-dabu5788-data/*\",\n",
      "                          \u001b[32m+\u001b[0m \u001b[0m\"arn:aws:s3:::glue-testing-dabu5788-code\",\n",
      "                          \u001b[32m+\u001b[0m \u001b[0m\"arn:aws:s3:::glue-testing-dabu5788-code/*\",\n",
      "                        ]\n",
      "                    },\n",
      "                  \u001b[32m+\u001b[0m \u001b[0m{\n",
      "                      \u001b[32m+\u001b[0m \u001b[0mAction   = [\n",
      "                          \u001b[32m+\u001b[0m \u001b[0m\"glue:*\",\n",
      "                        ]\n",
      "                      \u001b[32m+\u001b[0m \u001b[0mEffect   = \"Allow\"\n",
      "                      \u001b[32m+\u001b[0m \u001b[0mResource = [\n",
      "                          \u001b[32m+\u001b[0m \u001b[0m\"*\",\n",
      "                        ]\n",
      "                    },\n",
      "                  \u001b[32m+\u001b[0m \u001b[0m{\n",
      "                      \u001b[32m+\u001b[0m \u001b[0mAction   = [\n",
      "                          \u001b[32m+\u001b[0m \u001b[0m\"logs:CreateLogGroup\",\n",
      "                          \u001b[32m+\u001b[0m \u001b[0m\"logs:CreateLogStream\",\n",
      "                          \u001b[32m+\u001b[0m \u001b[0m\"logs:PutLogEvents\",\n",
      "                        ]\n",
      "                      \u001b[32m+\u001b[0m \u001b[0mEffect   = \"Allow\"\n",
      "                      \u001b[32m+\u001b[0m \u001b[0mResource = [\n",
      "                          \u001b[32m+\u001b[0m \u001b[0m\"arn:aws:logs:*:*:/aws-glue/*\",\n",
      "                        ]\n",
      "                    },\n",
      "                ]\n",
      "              \u001b[32m+\u001b[0m \u001b[0mVersion   = \"2012-10-17\"\n",
      "            }\n",
      "        )\n",
      "    }\n",
      "\n",
      "\u001b[1m  # aws_iam_role.glue_role\u001b[0m will be created\u001b[0m\u001b[0m\n",
      "\u001b[0m  \u001b[32m+\u001b[0m\u001b[0m resource \"aws_iam_role\" \"glue_role\" {\n",
      "      \u001b[32m+\u001b[0m \u001b[0m\u001b[1m\u001b[0marn\u001b[0m\u001b[0m                   = (known after apply)\n",
      "      \u001b[32m+\u001b[0m \u001b[0m\u001b[1m\u001b[0massume_role_policy\u001b[0m\u001b[0m    = jsonencode(\n",
      "            {\n",
      "              \u001b[32m+\u001b[0m \u001b[0mStatement = [\n",
      "                  \u001b[32m+\u001b[0m \u001b[0m{\n",
      "                      \u001b[32m+\u001b[0m \u001b[0mAction    = \"sts:AssumeRole\"\n",
      "                      \u001b[32m+\u001b[0m \u001b[0mEffect    = \"Allow\"\n",
      "                      \u001b[32m+\u001b[0m \u001b[0mPrincipal = {\n",
      "                          \u001b[32m+\u001b[0m \u001b[0mService = \"glue.amazonaws.com\"\n",
      "                        }\n",
      "                      \u001b[32m+\u001b[0m \u001b[0mSid       = \"\"\n",
      "                    },\n",
      "                ]\n",
      "              \u001b[32m+\u001b[0m \u001b[0mVersion   = \"2012-10-17\"\n",
      "            }\n",
      "        )\n",
      "      \u001b[32m+\u001b[0m \u001b[0m\u001b[1m\u001b[0mcreate_date\u001b[0m\u001b[0m           = (known after apply)\n",
      "      \u001b[32m+\u001b[0m \u001b[0m\u001b[1m\u001b[0mforce_detach_policies\u001b[0m\u001b[0m = false\n",
      "      \u001b[32m+\u001b[0m \u001b[0m\u001b[1m\u001b[0mid\u001b[0m\u001b[0m                    = (known after apply)\n",
      "      \u001b[32m+\u001b[0m \u001b[0m\u001b[1m\u001b[0mmax_session_duration\u001b[0m\u001b[0m  = 3600\n",
      "      \u001b[32m+\u001b[0m \u001b[0m\u001b[1m\u001b[0mname\u001b[0m\u001b[0m                  = \"glue-testing-yz9bw5a\"\n",
      "      \u001b[32m+\u001b[0m \u001b[0m\u001b[1m\u001b[0mpath\u001b[0m\u001b[0m                  = \"/\"\n",
      "      \u001b[32m+\u001b[0m \u001b[0m\u001b[1m\u001b[0munique_id\u001b[0m\u001b[0m             = (known after apply)\n",
      "    }\n",
      "\n",
      "\u001b[1m  # aws_iam_role_policy_attachment.glue_policy_attch\u001b[0m will be created\u001b[0m\u001b[0m\n",
      "\u001b[0m  \u001b[32m+\u001b[0m\u001b[0m resource \"aws_iam_role_policy_attachment\" \"glue_policy_attch\" {\n",
      "      \u001b[32m+\u001b[0m \u001b[0m\u001b[1m\u001b[0mid\u001b[0m\u001b[0m         = (known after apply)\n",
      "      \u001b[32m+\u001b[0m \u001b[0m\u001b[1m\u001b[0mpolicy_arn\u001b[0m\u001b[0m = (known after apply)\n",
      "      \u001b[32m+\u001b[0m \u001b[0m\u001b[1m\u001b[0mrole\u001b[0m\u001b[0m       = \"glue-testing-yz9bw5a\"\n",
      "    }\n",
      "\n",
      "\u001b[1m  # aws_s3_bucket.glue_data_bucket\u001b[0m will be created\u001b[0m\u001b[0m\n",
      "\u001b[0m  \u001b[32m+\u001b[0m\u001b[0m resource \"aws_s3_bucket\" \"glue_data_bucket\" {\n",
      "      \u001b[32m+\u001b[0m \u001b[0m\u001b[1m\u001b[0macceleration_status\u001b[0m\u001b[0m         = (known after apply)\n",
      "      \u001b[32m+\u001b[0m \u001b[0m\u001b[1m\u001b[0macl\u001b[0m\u001b[0m                         = \"private\"\n",
      "      \u001b[32m+\u001b[0m \u001b[0m\u001b[1m\u001b[0marn\u001b[0m\u001b[0m                         = (known after apply)\n",
      "      \u001b[32m+\u001b[0m \u001b[0m\u001b[1m\u001b[0mbucket\u001b[0m\u001b[0m                      = \"glue-testing-yz9bw5a-data\"\n",
      "      \u001b[32m+\u001b[0m \u001b[0m\u001b[1m\u001b[0mbucket_domain_name\u001b[0m\u001b[0m          = (known after apply)\n",
      "      \u001b[32m+\u001b[0m \u001b[0m\u001b[1m\u001b[0mbucket_regional_domain_name\u001b[0m\u001b[0m = (known after apply)\n",
      "      \u001b[32m+\u001b[0m \u001b[0m\u001b[1m\u001b[0mforce_destroy\u001b[0m\u001b[0m               = true\n",
      "      \u001b[32m+\u001b[0m \u001b[0m\u001b[1m\u001b[0mhosted_zone_id\u001b[0m\u001b[0m              = (known after apply)\n",
      "      \u001b[32m+\u001b[0m \u001b[0m\u001b[1m\u001b[0mid\u001b[0m\u001b[0m                          = (known after apply)\n",
      "      \u001b[32m+\u001b[0m \u001b[0m\u001b[1m\u001b[0mregion\u001b[0m\u001b[0m                      = (known after apply)\n",
      "      \u001b[32m+\u001b[0m \u001b[0m\u001b[1m\u001b[0mrequest_payer\u001b[0m\u001b[0m               = (known after apply)\n",
      "      \u001b[32m+\u001b[0m \u001b[0m\u001b[1m\u001b[0mwebsite_domain\u001b[0m\u001b[0m              = (known after apply)\n",
      "      \u001b[32m+\u001b[0m \u001b[0m\u001b[1m\u001b[0mwebsite_endpoint\u001b[0m\u001b[0m            = (known after apply)\n",
      "\n",
      "      \u001b[32m+\u001b[0m \u001b[0mversioning {\n",
      "          \u001b[32m+\u001b[0m \u001b[0m\u001b[1m\u001b[0menabled\u001b[0m\u001b[0m    = (known after apply)\n",
      "          \u001b[32m+\u001b[0m \u001b[0m\u001b[1m\u001b[0mmfa_delete\u001b[0m\u001b[0m = (known after apply)\n",
      "        }\n",
      "    }\n",
      "\n",
      "\u001b[1m  # aws_s3_bucket_object.glue_data_source\u001b[0m will be created\u001b[0m\u001b[0m\n",
      "\u001b[0m  \u001b[32m+\u001b[0m\u001b[0m resource \"aws_s3_bucket_object\" \"glue_data_source\" {\n",
      "      \u001b[32m+\u001b[0m \u001b[0m\u001b[1m\u001b[0macl\u001b[0m\u001b[0m                    = \"private\"\n",
      "      \u001b[32m+\u001b[0m \u001b[0m\u001b[1m\u001b[0mbucket\u001b[0m\u001b[0m                 = \"glue-testing-yz9bw5a-data\"\n",
      "      \u001b[32m+\u001b[0m \u001b[0m\u001b[1m\u001b[0mcontent_type\u001b[0m\u001b[0m           = (known after apply)\n",
      "      \u001b[32m+\u001b[0m \u001b[0m\u001b[1m\u001b[0metag\u001b[0m\u001b[0m                   = \"e11e9971edb8863daff384185372db11\"\n",
      "      \u001b[32m+\u001b[0m \u001b[0m\u001b[1m\u001b[0mforce_destroy\u001b[0m\u001b[0m          = false\n",
      "      \u001b[32m+\u001b[0m \u001b[0m\u001b[1m\u001b[0mid\u001b[0m\u001b[0m                     = (known after apply)\n",
      "      \u001b[32m+\u001b[0m \u001b[0m\u001b[1m\u001b[0mkey\u001b[0m\u001b[0m                    = \"iris.parquet\"\n",
      "      \u001b[32m+\u001b[0m \u001b[0m\u001b[1m\u001b[0mkms_key_id\u001b[0m\u001b[0m             = (known after apply)\n",
      "      \u001b[32m+\u001b[0m \u001b[0m\u001b[1m\u001b[0mserver_side_encryption\u001b[0m\u001b[0m = (known after apply)\n",
      "      \u001b[32m+\u001b[0m \u001b[0m\u001b[1m\u001b[0msource\u001b[0m\u001b[0m                 = \"iris.parquet\"\n",
      "      \u001b[32m+\u001b[0m \u001b[0m\u001b[1m\u001b[0mstorage_class\u001b[0m\u001b[0m          = (known after apply)\n",
      "      \u001b[32m+\u001b[0m \u001b[0m\u001b[1m\u001b[0mversion_id\u001b[0m\u001b[0m             = (known after apply)\n",
      "    }\n",
      "\n",
      "\u001b[0m\u001b[1mPlan:\u001b[0m 7 to add, 0 to change, 0 to destroy.\u001b[0m\n",
      "\n",
      "------------------------------------------------------------------------\n",
      "\n",
      "Note: You didn't specify an \"-out\" parameter to save this plan, so Terraform\n",
      "can't guarantee that exactly these actions will be performed if\n",
      "\"terraform apply\" is subsequently run.\n",
      "\n"
     ]
    }
   ],
   "source": [
    "!terraform plan"
   ]
  },
  {
   "cell_type": "code",
   "execution_count": 6,
   "metadata": {},
   "outputs": [],
   "source": [
    "!terraform graph -type=plan | dot -Tsvg > plan.svg"
   ]
  },
  {
   "cell_type": "code",
   "execution_count": 7,
   "metadata": {},
   "outputs": [
    {
     "data": {
      "text/html": [
       "<img src=\"plan.svg\"/>"
      ],
      "text/plain": [
       "<IPython.core.display.Image object>"
      ]
     },
     "execution_count": 7,
     "metadata": {},
     "output_type": "execute_result"
    }
   ],
   "source": [
    "# view plan graph\n",
    "Image(url=\"plan.svg\")"
   ]
  },
  {
   "cell_type": "code",
   "execution_count": null,
   "metadata": {},
   "outputs": [],
   "source": [
    "!terraform apply -auto-approve"
   ]
  },
  {
   "cell_type": "code",
   "execution_count": null,
   "metadata": {},
   "outputs": [],
   "source": [
    "!terraform graph | dot -Tsvg > apply.svg"
   ]
  },
  {
   "cell_type": "code",
   "execution_count": null,
   "metadata": {},
   "outputs": [],
   "source": [
    "# view apply graph\n",
    "Image(url=\"apply.svg\")"
   ]
  },
  {
   "cell_type": "code",
   "execution_count": null,
   "metadata": {},
   "outputs": [],
   "source": [
    "# open a web browser for console access\n",
    "webbrowser.open_new_tab(\"https://us-west-1.console.aws.amazon.com/glue/\")"
   ]
  },
  {
   "cell_type": "code",
   "execution_count": null,
   "metadata": {},
   "outputs": [],
   "source": [
    "!terraform destroy -auto-approve"
   ]
  }
 ],
 "metadata": {
  "kernelspec": {
   "display_name": "Python 3",
   "language": "python",
   "name": "python3"
  },
  "language_info": {
   "codemirror_mode": {
    "name": "ipython",
    "version": 3
   },
   "file_extension": ".py",
   "mimetype": "text/x-python",
   "name": "python",
   "nbconvert_exporter": "python",
   "pygments_lexer": "ipython3",
   "version": "3.7.6"
  }
 },
 "nbformat": 4,
 "nbformat_minor": 4
}

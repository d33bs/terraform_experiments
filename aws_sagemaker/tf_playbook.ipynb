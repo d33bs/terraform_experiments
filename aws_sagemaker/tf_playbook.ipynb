{
 "cells": [
  {
   "cell_type": "markdown",
   "metadata": {},
   "source": [
    "# Terraform Playbook\n",
    "\n",
    "The purpose of this notebook is to use terraform related to the contents found within this directory. It assumes the installation of terraform, clients, profiles, and other related items are already available."
   ]
  },
  {
   "cell_type": "code",
   "execution_count": 1,
   "metadata": {},
   "outputs": [],
   "source": [
    "from IPython.core.display import HTML\n",
    "from IPython.display import Image\n",
    "import webbrowser"
   ]
  },
  {
   "cell_type": "code",
   "execution_count": 2,
   "metadata": {},
   "outputs": [
    {
     "name": "stdout",
     "output_type": "stream",
     "text": [
      "\n",
      "\u001b[0m\u001b[1mInitializing the backend...\u001b[0m\n",
      "\n",
      "\u001b[0m\u001b[1mInitializing provider plugins...\u001b[0m\n",
      "- Using previously-installed hashicorp/aws v3.25.0\n",
      "\n",
      "The following providers do not have any version constraints in configuration,\n",
      "so the latest version was installed.\n",
      "\n",
      "To prevent automatic upgrades to new major versions that may contain breaking\n",
      "changes, we recommend adding version constraints in a required_providers block\n",
      "in your configuration, with the constraint strings suggested below.\n",
      "\n",
      "* hashicorp/aws: version = \"~> 3.25.0\"\n",
      "\n",
      "\u001b[0m\u001b[1m\u001b[32mTerraform has been successfully initialized!\u001b[0m\u001b[32m\u001b[0m\n",
      "\u001b[0m\u001b[32m\n",
      "You may now begin working with Terraform. Try running \"terraform plan\" to see\n",
      "any changes that are required for your infrastructure. All Terraform commands\n",
      "should now work.\n",
      "\n",
      "If you ever set or change modules or backend configuration for Terraform,\n",
      "rerun this command to reinitialize your working directory. If you forget, other\n",
      "commands will detect it and remind you to do so if necessary.\u001b[0m\n"
     ]
    }
   ],
   "source": [
    "!terraform init"
   ]
  },
  {
   "cell_type": "code",
   "execution_count": 16,
   "metadata": {},
   "outputs": [
    {
     "name": "stdout",
     "output_type": "stream",
     "text": [
      "\u001b[32m\u001b[1mSuccess!\u001b[0m The configuration is valid.\n",
      "\u001b[0m\n"
     ]
    }
   ],
   "source": [
    "!terraform validate"
   ]
  },
  {
   "cell_type": "code",
   "execution_count": 17,
   "metadata": {},
   "outputs": [
    {
     "name": "stdout",
     "output_type": "stream",
     "text": [
      "\u001b[0m\u001b[1mRefreshing Terraform state in-memory prior to plan...\u001b[0m\n",
      "The refreshed state will be used to calculate this plan, but will not be\n",
      "persisted to local or remote state storage.\n",
      "\u001b[0m\n",
      "\n",
      "------------------------------------------------------------------------\n",
      "\n",
      "An execution plan has been generated and is shown below.\n",
      "Resource actions are indicated with the following symbols:\n",
      "  \u001b[32m+\u001b[0m create\n",
      "\u001b[0m\n",
      "Terraform will perform the following actions:\n",
      "\n",
      "\u001b[1m  # aws_iam_policy.sagemaker_s3_policy\u001b[0m will be created\u001b[0m\u001b[0m\n",
      "\u001b[0m  \u001b[32m+\u001b[0m\u001b[0m resource \"aws_iam_policy\" \"sagemaker_s3_policy\" {\n",
      "      \u001b[32m+\u001b[0m \u001b[0m\u001b[1m\u001b[0marn\u001b[0m\u001b[0m         = (known after apply)\n",
      "      \u001b[32m+\u001b[0m \u001b[0m\u001b[1m\u001b[0mdescription\u001b[0m\u001b[0m = \"Policy for using specific s3 bucket with Sagemaker\"\n",
      "      \u001b[32m+\u001b[0m \u001b[0m\u001b[1m\u001b[0mid\u001b[0m\u001b[0m          = (known after apply)\n",
      "      \u001b[32m+\u001b[0m \u001b[0m\u001b[1m\u001b[0mname\u001b[0m\u001b[0m        = \"sagemaker_s3_policy\"\n",
      "      \u001b[32m+\u001b[0m \u001b[0m\u001b[1m\u001b[0mpath\u001b[0m\u001b[0m        = \"/\"\n",
      "      \u001b[32m+\u001b[0m \u001b[0m\u001b[1m\u001b[0mpolicy\u001b[0m\u001b[0m      = jsonencode(\n",
      "            {\n",
      "              \u001b[32m+\u001b[0m \u001b[0mStatement = [\n",
      "                  \u001b[32m+\u001b[0m \u001b[0m{\n",
      "                      \u001b[32m+\u001b[0m \u001b[0mAction   = [\n",
      "                          \u001b[32m+\u001b[0m \u001b[0m\"s3:ListBucket\",\n",
      "                        ]\n",
      "                      \u001b[32m+\u001b[0m \u001b[0mEffect   = \"Allow\"\n",
      "                      \u001b[32m+\u001b[0m \u001b[0mResource = [\n",
      "                          \u001b[32m+\u001b[0m \u001b[0m\"arn:aws:s3:::sagemaker-testing-j64sFX\",\n",
      "                        ]\n",
      "                    },\n",
      "                  \u001b[32m+\u001b[0m \u001b[0m{\n",
      "                      \u001b[32m+\u001b[0m \u001b[0mAction   = [\n",
      "                          \u001b[32m+\u001b[0m \u001b[0m\"s3:GetObject\",\n",
      "                          \u001b[32m+\u001b[0m \u001b[0m\"s3:PutObject\",\n",
      "                          \u001b[32m+\u001b[0m \u001b[0m\"s3:DeleteObject\",\n",
      "                        ]\n",
      "                      \u001b[32m+\u001b[0m \u001b[0mEffect   = \"Allow\"\n",
      "                      \u001b[32m+\u001b[0m \u001b[0mResource = [\n",
      "                          \u001b[32m+\u001b[0m \u001b[0m\"arn:aws:s3:::sagemaker-testing-j64sFX/*\",\n",
      "                        ]\n",
      "                    },\n",
      "                ]\n",
      "              \u001b[32m+\u001b[0m \u001b[0mVersion   = \"2012-10-17\"\n",
      "            }\n",
      "        )\n",
      "    }\n",
      "\n",
      "\u001b[1m  # aws_iam_role.role\u001b[0m will be created\u001b[0m\u001b[0m\n",
      "\u001b[0m  \u001b[32m+\u001b[0m\u001b[0m resource \"aws_iam_role\" \"role\" {\n",
      "      \u001b[32m+\u001b[0m \u001b[0m\u001b[1m\u001b[0marn\u001b[0m\u001b[0m                   = (known after apply)\n",
      "      \u001b[32m+\u001b[0m \u001b[0m\u001b[1m\u001b[0massume_role_policy\u001b[0m\u001b[0m    = jsonencode(\n",
      "            {\n",
      "              \u001b[32m+\u001b[0m \u001b[0mStatement = [\n",
      "                  \u001b[32m+\u001b[0m \u001b[0m{\n",
      "                      \u001b[32m+\u001b[0m \u001b[0mAction    = \"sts:AssumeRole\"\n",
      "                      \u001b[32m+\u001b[0m \u001b[0mEffect    = \"Allow\"\n",
      "                      \u001b[32m+\u001b[0m \u001b[0mPrincipal = {\n",
      "                          \u001b[32m+\u001b[0m \u001b[0mService = \"sagemaker.amazonaws.com\"\n",
      "                        }\n",
      "                      \u001b[32m+\u001b[0m \u001b[0mSid       = \"\"\n",
      "                    },\n",
      "                ]\n",
      "              \u001b[32m+\u001b[0m \u001b[0mVersion   = \"2012-10-17\"\n",
      "            }\n",
      "        )\n",
      "      \u001b[32m+\u001b[0m \u001b[0m\u001b[1m\u001b[0mcreate_date\u001b[0m\u001b[0m           = (known after apply)\n",
      "      \u001b[32m+\u001b[0m \u001b[0m\u001b[1m\u001b[0mforce_detach_policies\u001b[0m\u001b[0m = false\n",
      "      \u001b[32m+\u001b[0m \u001b[0m\u001b[1m\u001b[0mid\u001b[0m\u001b[0m                    = (known after apply)\n",
      "      \u001b[32m+\u001b[0m \u001b[0m\u001b[1m\u001b[0mmax_session_duration\u001b[0m\u001b[0m  = 3600\n",
      "      \u001b[32m+\u001b[0m \u001b[0m\u001b[1m\u001b[0mname\u001b[0m\u001b[0m                  = \"sagemaker-testing-j64sFX\"\n",
      "      \u001b[32m+\u001b[0m \u001b[0m\u001b[1m\u001b[0mpath\u001b[0m\u001b[0m                  = \"/\"\n",
      "      \u001b[32m+\u001b[0m \u001b[0m\u001b[1m\u001b[0munique_id\u001b[0m\u001b[0m             = (known after apply)\n",
      "    }\n",
      "\n",
      "\u001b[1m  # aws_iam_role_policy_attachment.sagemaker_policy_attch\u001b[0m will be created\u001b[0m\u001b[0m\n",
      "\u001b[0m  \u001b[32m+\u001b[0m\u001b[0m resource \"aws_iam_role_policy_attachment\" \"sagemaker_policy_attch\" {\n",
      "      \u001b[32m+\u001b[0m \u001b[0m\u001b[1m\u001b[0mid\u001b[0m\u001b[0m         = (known after apply)\n",
      "      \u001b[32m+\u001b[0m \u001b[0m\u001b[1m\u001b[0mpolicy_arn\u001b[0m\u001b[0m = \"arn:aws:iam::aws:policy/AmazonSageMakerFullAccess\"\n",
      "      \u001b[32m+\u001b[0m \u001b[0m\u001b[1m\u001b[0mrole\u001b[0m\u001b[0m       = \"sagemaker-testing-j64sFX\"\n",
      "    }\n",
      "\n",
      "\u001b[1m  # aws_iam_role_policy_attachment.sagemaker_s3_policy_attch\u001b[0m will be created\u001b[0m\u001b[0m\n",
      "\u001b[0m  \u001b[32m+\u001b[0m\u001b[0m resource \"aws_iam_role_policy_attachment\" \"sagemaker_s3_policy_attch\" {\n",
      "      \u001b[32m+\u001b[0m \u001b[0m\u001b[1m\u001b[0mid\u001b[0m\u001b[0m         = (known after apply)\n",
      "      \u001b[32m+\u001b[0m \u001b[0m\u001b[1m\u001b[0mpolicy_arn\u001b[0m\u001b[0m = (known after apply)\n",
      "      \u001b[32m+\u001b[0m \u001b[0m\u001b[1m\u001b[0mrole\u001b[0m\u001b[0m       = \"sagemaker-testing-j64sFX\"\n",
      "    }\n",
      "\n",
      "\u001b[1m  # aws_s3_bucket.sagemaker_bucket\u001b[0m will be created\u001b[0m\u001b[0m\n",
      "\u001b[0m  \u001b[32m+\u001b[0m\u001b[0m resource \"aws_s3_bucket\" \"sagemaker_bucket\" {\n",
      "      \u001b[32m+\u001b[0m \u001b[0m\u001b[1m\u001b[0macceleration_status\u001b[0m\u001b[0m         = (known after apply)\n",
      "      \u001b[32m+\u001b[0m \u001b[0m\u001b[1m\u001b[0macl\u001b[0m\u001b[0m                         = \"private\"\n",
      "      \u001b[32m+\u001b[0m \u001b[0m\u001b[1m\u001b[0marn\u001b[0m\u001b[0m                         = (known after apply)\n",
      "      \u001b[32m+\u001b[0m \u001b[0m\u001b[1m\u001b[0mbucket\u001b[0m\u001b[0m                      = \"sagemaker-testing-j64sFX\"\n",
      "      \u001b[32m+\u001b[0m \u001b[0m\u001b[1m\u001b[0mbucket_domain_name\u001b[0m\u001b[0m          = (known after apply)\n",
      "      \u001b[32m+\u001b[0m \u001b[0m\u001b[1m\u001b[0mbucket_regional_domain_name\u001b[0m\u001b[0m = (known after apply)\n",
      "      \u001b[32m+\u001b[0m \u001b[0m\u001b[1m\u001b[0mforce_destroy\u001b[0m\u001b[0m               = true\n",
      "      \u001b[32m+\u001b[0m \u001b[0m\u001b[1m\u001b[0mhosted_zone_id\u001b[0m\u001b[0m              = (known after apply)\n",
      "      \u001b[32m+\u001b[0m \u001b[0m\u001b[1m\u001b[0mid\u001b[0m\u001b[0m                          = (known after apply)\n",
      "      \u001b[32m+\u001b[0m \u001b[0m\u001b[1m\u001b[0mregion\u001b[0m\u001b[0m                      = (known after apply)\n",
      "      \u001b[32m+\u001b[0m \u001b[0m\u001b[1m\u001b[0mrequest_payer\u001b[0m\u001b[0m               = (known after apply)\n",
      "      \u001b[32m+\u001b[0m \u001b[0m\u001b[1m\u001b[0mwebsite_domain\u001b[0m\u001b[0m              = (known after apply)\n",
      "      \u001b[32m+\u001b[0m \u001b[0m\u001b[1m\u001b[0mwebsite_endpoint\u001b[0m\u001b[0m            = (known after apply)\n",
      "\n",
      "      \u001b[32m+\u001b[0m \u001b[0mversioning {\n",
      "          \u001b[32m+\u001b[0m \u001b[0m\u001b[1m\u001b[0menabled\u001b[0m\u001b[0m    = (known after apply)\n",
      "          \u001b[32m+\u001b[0m \u001b[0m\u001b[1m\u001b[0mmfa_delete\u001b[0m\u001b[0m = (known after apply)\n",
      "        }\n",
      "    }\n",
      "\n",
      "\u001b[1m  # aws_s3_bucket_object.sagemaker_data_source\u001b[0m will be created\u001b[0m\u001b[0m\n",
      "\u001b[0m  \u001b[32m+\u001b[0m\u001b[0m resource \"aws_s3_bucket_object\" \"sagemaker_data_source\" {\n",
      "      \u001b[32m+\u001b[0m \u001b[0m\u001b[1m\u001b[0macl\u001b[0m\u001b[0m                    = \"private\"\n",
      "      \u001b[32m+\u001b[0m \u001b[0m\u001b[1m\u001b[0mbucket\u001b[0m\u001b[0m                 = \"sagemaker-testing-j64sFX\"\n",
      "      \u001b[32m+\u001b[0m \u001b[0m\u001b[1m\u001b[0mcontent_type\u001b[0m\u001b[0m           = (known after apply)\n",
      "      \u001b[32m+\u001b[0m \u001b[0m\u001b[1m\u001b[0metag\u001b[0m\u001b[0m                   = \"a1a7ab3d4e6a4dc80809bfe077bb4373\"\n",
      "      \u001b[32m+\u001b[0m \u001b[0m\u001b[1m\u001b[0mforce_destroy\u001b[0m\u001b[0m          = false\n",
      "      \u001b[32m+\u001b[0m \u001b[0m\u001b[1m\u001b[0mid\u001b[0m\u001b[0m                     = (known after apply)\n",
      "      \u001b[32m+\u001b[0m \u001b[0m\u001b[1m\u001b[0mkey\u001b[0m\u001b[0m                    = \"sample.txt\"\n",
      "      \u001b[32m+\u001b[0m \u001b[0m\u001b[1m\u001b[0mkms_key_id\u001b[0m\u001b[0m             = (known after apply)\n",
      "      \u001b[32m+\u001b[0m \u001b[0m\u001b[1m\u001b[0mserver_side_encryption\u001b[0m\u001b[0m = (known after apply)\n",
      "      \u001b[32m+\u001b[0m \u001b[0m\u001b[1m\u001b[0msource\u001b[0m\u001b[0m                 = \"sample.txt\"\n",
      "      \u001b[32m+\u001b[0m \u001b[0m\u001b[1m\u001b[0mstorage_class\u001b[0m\u001b[0m          = (known after apply)\n",
      "      \u001b[32m+\u001b[0m \u001b[0m\u001b[1m\u001b[0mversion_id\u001b[0m\u001b[0m             = (known after apply)\n",
      "    }\n",
      "\n",
      "\u001b[1m  # aws_sagemaker_notebook_instance.ni\u001b[0m will be created\u001b[0m\u001b[0m\n",
      "\u001b[0m  \u001b[32m+\u001b[0m\u001b[0m resource \"aws_sagemaker_notebook_instance\" \"ni\" {\n",
      "      \u001b[32m+\u001b[0m \u001b[0m\u001b[1m\u001b[0marn\u001b[0m\u001b[0m                    = (known after apply)\n",
      "      \u001b[32m+\u001b[0m \u001b[0m\u001b[1m\u001b[0mdirect_internet_access\u001b[0m\u001b[0m = \"Enabled\"\n",
      "      \u001b[32m+\u001b[0m \u001b[0m\u001b[1m\u001b[0mid\u001b[0m\u001b[0m                     = (known after apply)\n",
      "      \u001b[32m+\u001b[0m \u001b[0m\u001b[1m\u001b[0minstance_type\u001b[0m\u001b[0m          = \"ml.t2.medium\"\n",
      "      \u001b[32m+\u001b[0m \u001b[0m\u001b[1m\u001b[0mlifecycle_config_name\u001b[0m\u001b[0m  = \"notebook-idle-stop\"\n",
      "      \u001b[32m+\u001b[0m \u001b[0m\u001b[1m\u001b[0mname\u001b[0m\u001b[0m                   = \"sagemaker-testing-j64sFX\"\n",
      "      \u001b[32m+\u001b[0m \u001b[0m\u001b[1m\u001b[0mnetwork_interface_id\u001b[0m\u001b[0m   = (known after apply)\n",
      "      \u001b[32m+\u001b[0m \u001b[0m\u001b[1m\u001b[0mrole_arn\u001b[0m\u001b[0m               = (known after apply)\n",
      "      \u001b[32m+\u001b[0m \u001b[0m\u001b[1m\u001b[0mroot_access\u001b[0m\u001b[0m            = \"Enabled\"\n",
      "      \u001b[32m+\u001b[0m \u001b[0m\u001b[1m\u001b[0msecurity_groups\u001b[0m\u001b[0m        = (known after apply)\n",
      "      \u001b[32m+\u001b[0m \u001b[0m\u001b[1m\u001b[0murl\u001b[0m\u001b[0m                    = (known after apply)\n",
      "      \u001b[32m+\u001b[0m \u001b[0m\u001b[1m\u001b[0mvolume_size\u001b[0m\u001b[0m            = 5\n",
      "    }\n",
      "\n",
      "\u001b[1m  # aws_sagemaker_notebook_instance_lifecycle_configuration.lc\u001b[0m will be created\u001b[0m\u001b[0m\n",
      "\u001b[0m  \u001b[32m+\u001b[0m\u001b[0m resource \"aws_sagemaker_notebook_instance_lifecycle_configuration\" \"lc\" {\n",
      "      \u001b[32m+\u001b[0m \u001b[0m\u001b[1m\u001b[0marn\u001b[0m\u001b[0m      = (known after apply)\n",
      "      \u001b[32m+\u001b[0m \u001b[0m\u001b[1m\u001b[0mid\u001b[0m\u001b[0m       = (known after apply)\n",
      "      \u001b[32m+\u001b[0m \u001b[0m\u001b[1m\u001b[0mname\u001b[0m\u001b[0m     = \"notebook-idle-stop\"\n",
      "      \u001b[32m+\u001b[0m \u001b[0m\u001b[1m\u001b[0mon_start\u001b[0m\u001b[0m = \"IyEvYmluL2Jhc2gKCiMgcmVmZXJlbmNlZCBmcm9tIGh0dHBzOi8vZ2l0aHViLmNvbS9hd3Mtc2FtcGxlcy9hbWF6b24tc2FnZW1ha2VyLW5vdGVib29rLWluc3RhbmNlLWxpZmVjeWNsZS1jb25maWctc2FtcGxlcwoKc2V0IC1lCgojIE9WRVJWSUVXCiMgVGhpcyBzY3JpcHQgc3RvcHMgYSBTYWdlTWFrZXIgbm90ZWJvb2sgb25jZSBpdCdzIGlkbGUgZm9yIG1vcmUgdGhhbiAxIGhvdXIgKGRlZmF1bHQgdGltZSkKIyBZb3UgY2FuIGNoYW5nZSB0aGUgaWRsZSB0aW1lIGZvciBzdG9wIHVzaW5nIHRoZSBlbnZpcm9ubWVudCB2YXJpYWJsZSBiZWxvdy4KIyBJZiB5b3Ugd2FudCB0aGUgbm90ZWJvb2sgdGhlIHN0b3Agb25seSBpZiBubyBicm93c2VycyBhcmUgb3BlbiwgcmVtb3ZlIHRoZSAtLWlnbm9yZS1jb25uZWN0aW9ucyBmbGFnCiMKIyBOb3RlIHRoYXQgdGhpcyBzY3JpcHQgd2lsbCBmYWlsIGlmIGVpdGhlciBjb25kaXRpb24gaXMgbm90IG1ldAojICAgMS4gRW5zdXJlIHRoZSBOb3RlYm9vayBJbnN0YW5jZSBoYXMgaW50ZXJuZXQgY29ubmVjdGl2aXR5IHRvIGZldGNoIHRoZSBleGFtcGxlIGNvbmZpZwojICAgMi4gRW5zdXJlIHRoZSBOb3RlYm9vayBJbnN0YW5jZSBleGVjdXRpb24gcm9sZSBwZXJtaXNzaW9ucyB0byBTYWdlTWFrZXI6U3RvcE5vdGVib29rSW5zdGFuY2UgdG8gc3RvcCB0aGUgbm90ZWJvb2sgCiMgICAgICAgYW5kIFNhZ2VNYWtlcjpEZXNjcmliZU5vdGVib29rSW5zdGFuY2UgdG8gZGVzY3JpYmUgdGhlIG5vdGVib29rLgojCgojIFBBUkFNRVRFUlMKSURMRV9USU1FPTM2MDAKCmVjaG8gIkZldGNoaW5nIHRoZSBhdXRvc3RvcCBzY3JpcHQiCndnZXQgaHR0cHM6Ly9yYXcuZ2l0aHVidXNlcmNvbnRlbnQuY29tL2F3cy1zYW1wbGVzL2FtYXpvbi1zYWdlbWFrZXItbm90ZWJvb2staW5zdGFuY2UtbGlmZWN5Y2xlLWNvbmZpZy1zYW1wbGVzL21hc3Rlci9zY3JpcHRzL2F1dG8tc3RvcC1pZGxlL2F1dG9zdG9wLnB5CgplY2hvICJTdGFydGluZyB0aGUgU2FnZU1ha2VyIGF1dG9zdG9wIHNjcmlwdCBpbiBjcm9uIgooY3JvbnRhYiAtbCAyPi9kZXYvbnVsbDsgZWNobyAiKi81ICogKiAqICogL3Vzci9iaW4vcHl0aG9uICRQV0QvYXV0b3N0b3AucHkgLS10aW1lICRJRExFX1RJTUUgLS1pZ25vcmUtY29ubmVjdGlvbnMiKSB8IGNyb250YWIgLQoKZWNobyAiU3RhcnRpbmcgdGhlIEp1cHl0ZXIgZXh0ZW5zaW9uIGluc3RhbGwgc2NyaXB0Igo=\"\n",
      "    }\n",
      "\n",
      "\u001b[0m\u001b[1mPlan:\u001b[0m 8 to add, 0 to change, 0 to destroy.\u001b[0m\n",
      "\n",
      "------------------------------------------------------------------------\n",
      "\n",
      "Note: You didn't specify an \"-out\" parameter to save this plan, so Terraform\n",
      "can't guarantee that exactly these actions will be performed if\n",
      "\"terraform apply\" is subsequently run.\n",
      "\n"
     ]
    }
   ],
   "source": [
    "!terraform plan"
   ]
  },
  {
   "cell_type": "code",
   "execution_count": 14,
   "metadata": {},
   "outputs": [],
   "source": [
    "!terraform graph -type=plan | dot -Tsvg > plan.svg"
   ]
  },
  {
   "cell_type": "code",
   "execution_count": 15,
   "metadata": {},
   "outputs": [
    {
     "data": {
      "text/html": [
       "<img src=\"plan.svg\"/>"
      ],
      "text/plain": [
       "<IPython.core.display.Image object>"
      ]
     },
     "execution_count": 15,
     "metadata": {},
     "output_type": "execute_result"
    }
   ],
   "source": [
    "# view plan graph\n",
    "Image(url=\"plan.svg\")"
   ]
  },
  {
   "cell_type": "code",
   "execution_count": null,
   "metadata": {},
   "outputs": [],
   "source": [
    "!terraform apply -auto-approve"
   ]
  },
  {
   "cell_type": "code",
   "execution_count": null,
   "metadata": {},
   "outputs": [],
   "source": [
    "!terraform graph | dot -Tsvg > apply.svg"
   ]
  },
  {
   "cell_type": "code",
   "execution_count": null,
   "metadata": {},
   "outputs": [],
   "source": [
    "# view apply graph\n",
    "Image(url=\"apply.svg\")"
   ]
  },
  {
   "cell_type": "code",
   "execution_count": null,
   "metadata": {},
   "outputs": [],
   "source": [
    "# open a web browser for console access to sagemaker nb instance, including jupyter\n",
    "webbrowser.open_new_tab(\"https://us-west-1.console.aws.amazon.com/sagemaker/\")"
   ]
  },
  {
   "cell_type": "code",
   "execution_count": null,
   "metadata": {},
   "outputs": [],
   "source": [
    "!terraform destroy -auto-approve"
   ]
  }
 ],
 "metadata": {
  "kernelspec": {
   "display_name": "Python 3",
   "language": "python",
   "name": "python3"
  },
  "language_info": {
   "codemirror_mode": {
    "name": "ipython",
    "version": 3
   },
   "file_extension": ".py",
   "mimetype": "text/x-python",
   "name": "python",
   "nbconvert_exporter": "python",
   "pygments_lexer": "ipython3",
   "version": "3.7.6"
  }
 },
 "nbformat": 4,
 "nbformat_minor": 4
}

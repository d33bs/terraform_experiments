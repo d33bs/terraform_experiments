{
 "cells": [
  {
   "cell_type": "markdown",
   "metadata": {},
   "source": [
    "# Terraform Playbook\n",
    "\n",
    "The purpose of this notebook is to use terraform related to the contents found within this directory. It assumes the installation of terraform, clients, profiles, and other related items are already available."
   ]
  },
  {
   "cell_type": "code",
   "execution_count": 1,
   "metadata": {},
   "outputs": [],
   "source": [
    "import os\n",
    "import webbrowser\n",
    "\n",
    "from IPython.core.display import HTML\n",
    "from IPython.display import Image"
   ]
  },
  {
   "cell_type": "code",
   "execution_count": 2,
   "metadata": {},
   "outputs": [
    {
     "name": "stdout",
     "output_type": "stream",
     "text": [
      "\n",
      "\u001b[0m\u001b[1mInitializing the backend...\u001b[0m\n",
      "\n",
      "\u001b[0m\u001b[1mInitializing provider plugins...\u001b[0m\n",
      "- Reusing previous version of hashicorp/archive from the dependency lock file\n",
      "- Reusing previous version of hashicorp/aws from the dependency lock file\n",
      "- Installing hashicorp/archive v2.0.0...\n",
      "- Installed hashicorp/archive v2.0.0 (signed by HashiCorp)\n",
      "- Installing hashicorp/aws v3.26.0...\n",
      "- Installed hashicorp/aws v3.26.0 (signed by HashiCorp)\n",
      "\n",
      "\u001b[0m\u001b[1m\u001b[32mTerraform has been successfully initialized!\u001b[0m\u001b[32m\u001b[0m\n",
      "\u001b[0m\u001b[32m\n",
      "You may now begin working with Terraform. Try running \"terraform plan\" to see\n",
      "any changes that are required for your infrastructure. All Terraform commands\n",
      "should now work.\n",
      "\n",
      "If you ever set or change modules or backend configuration for Terraform,\n",
      "rerun this command to reinitialize your working directory. If you forget, other\n",
      "commands will detect it and remind you to do so if necessary.\u001b[0m\n"
     ]
    }
   ],
   "source": [
    "!terraform init"
   ]
  },
  {
   "cell_type": "code",
   "execution_count": 3,
   "metadata": {},
   "outputs": [
    {
     "name": "stdout",
     "output_type": "stream",
     "text": [
      "\u001b[32m\u001b[1mSuccess!\u001b[0m The configuration is valid.\n",
      "\u001b[0m\n"
     ]
    }
   ],
   "source": [
    "!terraform validate"
   ]
  },
  {
   "cell_type": "code",
   "execution_count": 4,
   "metadata": {},
   "outputs": [
    {
     "name": "stdout",
     "output_type": "stream",
     "text": [
      "\n",
      "An execution plan has been generated and is shown below.\n",
      "Resource actions are indicated with the following symbols:\n",
      "  \u001b[32m+\u001b[0m create\n",
      "\u001b[0m\n",
      "Terraform will perform the following actions:\n",
      "\n",
      "\u001b[1m  # aws_iam_role.lambda\u001b[0m will be created\u001b[0m\u001b[0m\n",
      "\u001b[0m  \u001b[32m+\u001b[0m\u001b[0m resource \"aws_iam_role\" \"lambda\" {\n",
      "      \u001b[32m+\u001b[0m \u001b[0m\u001b[1m\u001b[0marn\u001b[0m\u001b[0m                   = (known after apply)\n",
      "      \u001b[32m+\u001b[0m \u001b[0m\u001b[1m\u001b[0massume_role_policy\u001b[0m\u001b[0m    = jsonencode(\n",
      "            {\n",
      "              \u001b[32m+\u001b[0m \u001b[0mStatement = [\n",
      "                  \u001b[32m+\u001b[0m \u001b[0m{\n",
      "                      \u001b[32m+\u001b[0m \u001b[0mAction    = \"sts:AssumeRole\"\n",
      "                      \u001b[32m+\u001b[0m \u001b[0mEffect    = \"Allow\"\n",
      "                      \u001b[32m+\u001b[0m \u001b[0mPrincipal = {\n",
      "                          \u001b[32m+\u001b[0m \u001b[0mService = \"lambda.amazonaws.com\"\n",
      "                        }\n",
      "                      \u001b[32m+\u001b[0m \u001b[0mSid       = \"LambdaAssumeRole\"\n",
      "                    },\n",
      "                ]\n",
      "              \u001b[32m+\u001b[0m \u001b[0mVersion   = \"2012-10-17\"\n",
      "            }\n",
      "        )\n",
      "      \u001b[32m+\u001b[0m \u001b[0m\u001b[1m\u001b[0mcreate_date\u001b[0m\u001b[0m           = (known after apply)\n",
      "      \u001b[32m+\u001b[0m \u001b[0m\u001b[1m\u001b[0mforce_detach_policies\u001b[0m\u001b[0m = false\n",
      "      \u001b[32m+\u001b[0m \u001b[0m\u001b[1m\u001b[0mid\u001b[0m\u001b[0m                    = (known after apply)\n",
      "      \u001b[32m+\u001b[0m \u001b[0m\u001b[1m\u001b[0mmax_session_duration\u001b[0m\u001b[0m  = 3600\n",
      "      \u001b[32m+\u001b[0m \u001b[0m\u001b[1m\u001b[0mname\u001b[0m\u001b[0m                  = \"stepfxn-testing-6u2j5t5-lambda\"\n",
      "      \u001b[32m+\u001b[0m \u001b[0m\u001b[1m\u001b[0mpath\u001b[0m\u001b[0m                  = \"/\"\n",
      "      \u001b[32m+\u001b[0m \u001b[0m\u001b[1m\u001b[0munique_id\u001b[0m\u001b[0m             = (known after apply)\n",
      "    }\n",
      "\n",
      "\u001b[1m  # aws_iam_role.step_function\u001b[0m will be created\u001b[0m\u001b[0m\n",
      "\u001b[0m  \u001b[32m+\u001b[0m\u001b[0m resource \"aws_iam_role\" \"step_function\" {\n",
      "      \u001b[32m+\u001b[0m \u001b[0m\u001b[1m\u001b[0marn\u001b[0m\u001b[0m                   = (known after apply)\n",
      "      \u001b[32m+\u001b[0m \u001b[0m\u001b[1m\u001b[0massume_role_policy\u001b[0m\u001b[0m    = jsonencode(\n",
      "            {\n",
      "              \u001b[32m+\u001b[0m \u001b[0mStatement = [\n",
      "                  \u001b[32m+\u001b[0m \u001b[0m{\n",
      "                      \u001b[32m+\u001b[0m \u001b[0mAction    = \"sts:AssumeRole\"\n",
      "                      \u001b[32m+\u001b[0m \u001b[0mEffect    = \"Allow\"\n",
      "                      \u001b[32m+\u001b[0m \u001b[0mPrincipal = {\n",
      "                          \u001b[32m+\u001b[0m \u001b[0mService = \"states.amazonaws.com\"\n",
      "                        }\n",
      "                      \u001b[32m+\u001b[0m \u001b[0mSid       = \"StepFunctionAssumeRole\"\n",
      "                    },\n",
      "                ]\n",
      "              \u001b[32m+\u001b[0m \u001b[0mVersion   = \"2012-10-17\"\n",
      "            }\n",
      "        )\n",
      "      \u001b[32m+\u001b[0m \u001b[0m\u001b[1m\u001b[0mcreate_date\u001b[0m\u001b[0m           = (known after apply)\n",
      "      \u001b[32m+\u001b[0m \u001b[0m\u001b[1m\u001b[0mforce_detach_policies\u001b[0m\u001b[0m = false\n",
      "      \u001b[32m+\u001b[0m \u001b[0m\u001b[1m\u001b[0mid\u001b[0m\u001b[0m                    = (known after apply)\n",
      "      \u001b[32m+\u001b[0m \u001b[0m\u001b[1m\u001b[0mmax_session_duration\u001b[0m\u001b[0m  = 3600\n",
      "      \u001b[32m+\u001b[0m \u001b[0m\u001b[1m\u001b[0mname\u001b[0m\u001b[0m                  = \"stepfxn-testing-6u2j5t5-step-fxn\"\n",
      "      \u001b[32m+\u001b[0m \u001b[0m\u001b[1m\u001b[0mpath\u001b[0m\u001b[0m                  = \"/\"\n",
      "      \u001b[32m+\u001b[0m \u001b[0m\u001b[1m\u001b[0munique_id\u001b[0m\u001b[0m             = (known after apply)\n",
      "    }\n",
      "\n",
      "\u001b[1m  # aws_iam_role_policy.step_function_policy\u001b[0m will be created\u001b[0m\u001b[0m\n",
      "\u001b[0m  \u001b[32m+\u001b[0m\u001b[0m resource \"aws_iam_role_policy\" \"step_function_policy\" {\n",
      "      \u001b[32m+\u001b[0m \u001b[0m\u001b[1m\u001b[0mid\u001b[0m\u001b[0m     = (known after apply)\n",
      "      \u001b[32m+\u001b[0m \u001b[0m\u001b[1m\u001b[0mname\u001b[0m\u001b[0m   = \"stepfxn-testing-6u2j5t5-step-fxn-policy\"\n",
      "      \u001b[32m+\u001b[0m \u001b[0m\u001b[1m\u001b[0mpolicy\u001b[0m\u001b[0m = (known after apply)\n",
      "      \u001b[32m+\u001b[0m \u001b[0m\u001b[1m\u001b[0mrole\u001b[0m\u001b[0m   = (known after apply)\n",
      "    }\n",
      "\n",
      "\u001b[1m  # aws_lambda_function.lambda\u001b[0m will be created\u001b[0m\u001b[0m\n",
      "\u001b[0m  \u001b[32m+\u001b[0m\u001b[0m resource \"aws_lambda_function\" \"lambda\" {\n",
      "      \u001b[32m+\u001b[0m \u001b[0m\u001b[1m\u001b[0marn\u001b[0m\u001b[0m                            = (known after apply)\n",
      "      \u001b[32m+\u001b[0m \u001b[0m\u001b[1m\u001b[0mfilename\u001b[0m\u001b[0m                       = \"./lambda_zip/lambda.zip\"\n",
      "      \u001b[32m+\u001b[0m \u001b[0m\u001b[1m\u001b[0mfunction_name\u001b[0m\u001b[0m                  = \"stepfxn-testing-6u2j5t5\"\n",
      "      \u001b[32m+\u001b[0m \u001b[0m\u001b[1m\u001b[0mhandler\u001b[0m\u001b[0m                        = \"example.handler\"\n",
      "      \u001b[32m+\u001b[0m \u001b[0m\u001b[1m\u001b[0mid\u001b[0m\u001b[0m                             = (known after apply)\n",
      "      \u001b[32m+\u001b[0m \u001b[0m\u001b[1m\u001b[0minvoke_arn\u001b[0m\u001b[0m                     = (known after apply)\n",
      "      \u001b[32m+\u001b[0m \u001b[0m\u001b[1m\u001b[0mlast_modified\u001b[0m\u001b[0m                  = (known after apply)\n",
      "      \u001b[32m+\u001b[0m \u001b[0m\u001b[1m\u001b[0mmemory_size\u001b[0m\u001b[0m                    = 128\n",
      "      \u001b[32m+\u001b[0m \u001b[0m\u001b[1m\u001b[0mpackage_type\u001b[0m\u001b[0m                   = \"Zip\"\n",
      "      \u001b[32m+\u001b[0m \u001b[0m\u001b[1m\u001b[0mpublish\u001b[0m\u001b[0m                        = false\n",
      "      \u001b[32m+\u001b[0m \u001b[0m\u001b[1m\u001b[0mqualified_arn\u001b[0m\u001b[0m                  = (known after apply)\n",
      "      \u001b[32m+\u001b[0m \u001b[0m\u001b[1m\u001b[0mreserved_concurrent_executions\u001b[0m\u001b[0m = -1\n",
      "      \u001b[32m+\u001b[0m \u001b[0m\u001b[1m\u001b[0mrole\u001b[0m\u001b[0m                           = (known after apply)\n",
      "      \u001b[32m+\u001b[0m \u001b[0m\u001b[1m\u001b[0mruntime\u001b[0m\u001b[0m                        = \"python3.7\"\n",
      "      \u001b[32m+\u001b[0m \u001b[0m\u001b[1m\u001b[0msigning_job_arn\u001b[0m\u001b[0m                = (known after apply)\n",
      "      \u001b[32m+\u001b[0m \u001b[0m\u001b[1m\u001b[0msigning_profile_version_arn\u001b[0m\u001b[0m    = (known after apply)\n",
      "      \u001b[32m+\u001b[0m \u001b[0m\u001b[1m\u001b[0msource_code_hash\u001b[0m\u001b[0m               = \"lTuj9JT3vRuRtR/O/1utC9Y4nSyT+4FGeFmXSGAdsGM=\"\n",
      "      \u001b[32m+\u001b[0m \u001b[0m\u001b[1m\u001b[0msource_code_size\u001b[0m\u001b[0m               = (known after apply)\n",
      "      \u001b[32m+\u001b[0m \u001b[0m\u001b[1m\u001b[0mtimeout\u001b[0m\u001b[0m                        = 3\n",
      "      \u001b[32m+\u001b[0m \u001b[0m\u001b[1m\u001b[0mversion\u001b[0m\u001b[0m                        = (known after apply)\n",
      "\n",
      "      \u001b[32m+\u001b[0m \u001b[0mtracing_config {\n",
      "          \u001b[32m+\u001b[0m \u001b[0m\u001b[1m\u001b[0mmode\u001b[0m\u001b[0m = (known after apply)\n",
      "        }\n",
      "    }\n",
      "\n",
      "\u001b[1m  # aws_sfn_state_machine.sfn_state_machine\u001b[0m will be created\u001b[0m\u001b[0m\n",
      "\u001b[0m  \u001b[32m+\u001b[0m\u001b[0m resource \"aws_sfn_state_machine\" \"sfn_state_machine\" {\n",
      "      \u001b[32m+\u001b[0m \u001b[0m\u001b[1m\u001b[0marn\u001b[0m\u001b[0m           = (known after apply)\n",
      "      \u001b[32m+\u001b[0m \u001b[0m\u001b[1m\u001b[0mcreation_date\u001b[0m\u001b[0m = (known after apply)\n",
      "      \u001b[32m+\u001b[0m \u001b[0m\u001b[1m\u001b[0mdefinition\u001b[0m\u001b[0m    = (known after apply)\n",
      "      \u001b[32m+\u001b[0m \u001b[0m\u001b[1m\u001b[0mid\u001b[0m\u001b[0m            = (known after apply)\n",
      "      \u001b[32m+\u001b[0m \u001b[0m\u001b[1m\u001b[0mname\u001b[0m\u001b[0m          = \"stepfxn-testing-6u2j5t5\"\n",
      "      \u001b[32m+\u001b[0m \u001b[0m\u001b[1m\u001b[0mrole_arn\u001b[0m\u001b[0m      = (known after apply)\n",
      "      \u001b[32m+\u001b[0m \u001b[0m\u001b[1m\u001b[0mstatus\u001b[0m\u001b[0m        = (known after apply)\n",
      "    }\n",
      "\n",
      "\u001b[0m\u001b[1mPlan:\u001b[0m 5 to add, 0 to change, 0 to destroy.\u001b[0m\n",
      "\n",
      "------------------------------------------------------------------------\n",
      "\n",
      "Note: You didn't specify an \"-out\" parameter to save this plan, so Terraform\n",
      "can't guarantee that exactly these actions will be performed if\n",
      "\"terraform apply\" is subsequently run.\n",
      "\n"
     ]
    }
   ],
   "source": [
    "!terraform plan"
   ]
  },
  {
   "cell_type": "code",
   "execution_count": 5,
   "metadata": {},
   "outputs": [],
   "source": [
    "!terraform graph -type=plan | dot -Tsvg > plan.svg"
   ]
  },
  {
   "cell_type": "code",
   "execution_count": 6,
   "metadata": {},
   "outputs": [
    {
     "data": {
      "text/html": [
       "<img src=\"plan.svg\"/>"
      ],
      "text/plain": [
       "<IPython.core.display.Image object>"
      ]
     },
     "execution_count": 6,
     "metadata": {},
     "output_type": "execute_result"
    }
   ],
   "source": [
    "# view plan graph\n",
    "Image(url=\"plan.svg\")"
   ]
  },
  {
   "cell_type": "code",
   "execution_count": null,
   "metadata": {},
   "outputs": [],
   "source": [
    "!terraform apply -auto-approve"
   ]
  },
  {
   "cell_type": "code",
   "execution_count": null,
   "metadata": {},
   "outputs": [],
   "source": [
    "!terraform graph | dot -Tsvg > apply.svg"
   ]
  },
  {
   "cell_type": "code",
   "execution_count": null,
   "metadata": {},
   "outputs": [],
   "source": [
    "# view apply graph\n",
    "Image(url=\"apply.svg\")"
   ]
  },
  {
   "cell_type": "code",
   "execution_count": 22,
   "metadata": {},
   "outputs": [
    {
     "data": {
      "text/plain": [
       "True"
      ]
     },
     "execution_count": 22,
     "metadata": {},
     "output_type": "execute_result"
    }
   ],
   "source": [
    "# open a web browser for console access\n",
    "webbrowser.open_new_tab(\"https://us-west-1.console.aws.amazon.com/states/\")"
   ]
  },
  {
   "cell_type": "code",
   "execution_count": null,
   "metadata": {},
   "outputs": [],
   "source": [
    "!terraform destroy -auto-approve"
   ]
  },
  {
   "cell_type": "code",
   "execution_count": null,
   "metadata": {},
   "outputs": [],
   "source": []
  }
 ],
 "metadata": {
  "kernelspec": {
   "display_name": "Python 3",
   "language": "python",
   "name": "python3"
  },
  "language_info": {
   "codemirror_mode": {
    "name": "ipython",
    "version": 3
   },
   "file_extension": ".py",
   "mimetype": "text/x-python",
   "name": "python",
   "nbconvert_exporter": "python",
   "pygments_lexer": "ipython3",
   "version": "3.7.6"
  }
 },
 "nbformat": 4,
 "nbformat_minor": 4
}
